{
 "cells": [
  {
   "attachments": {},
   "cell_type": "markdown",
   "metadata": {},
   "source": [
    "# Ex2 - Getting and Knowing your Data\n",
    "\n",
    "Check out [Chipotle Exercises Video Tutorial](https://www.youtube.com/watch?v=lpuYZ5EUyS8&list=PLgJhDSE2ZLxaY_DigHeiIDC1cD09rXgJv&index=2) to watch a data scientist go through the exercises"
   ]
  },
  {
   "attachments": {},
   "cell_type": "markdown",
   "metadata": {},
   "source": [
    "This time we are going to pull data directly from the internet.\n",
    "Special thanks to: https://github.com/justmarkham for sharing the dataset and materials.\n",
    "\n",
    "### Step 1. Import the necessary libraries"
   ]
  },
  {
   "cell_type": "code",
   "execution_count": 1,
   "metadata": {
    "collapsed": false
   },
   "outputs": [],
   "source": [
    "import time\n",
    "import polars as pl\n",
    "\n",
    "start_time = time.time()"
   ]
  },
  {
   "attachments": {},
   "cell_type": "markdown",
   "metadata": {},
   "source": [
    "### Step 2. Import the dataset from this [address](https://raw.githubusercontent.com/justmarkham/DAT8/master/data/chipotle.tsv). "
   ]
  },
  {
   "attachments": {},
   "cell_type": "markdown",
   "metadata": {},
   "source": [
    "### Step 3. Assign it to a variable called chipo."
   ]
  },
  {
   "cell_type": "code",
   "execution_count": 2,
   "metadata": {
    "collapsed": false
   },
   "outputs": [],
   "source": [
    "url = 'https://raw.githubusercontent.com/justmarkham/DAT8/master/data/chipotle.tsv'\n",
    "    \n",
    "chipo = pl.read_csv(url, separator = '\\t', null_values=['NULL'])"
   ]
  },
  {
   "attachments": {},
   "cell_type": "markdown",
   "metadata": {},
   "source": [
    "### Step 4. See the first 10 entries"
   ]
  },
  {
   "cell_type": "code",
   "execution_count": 3,
   "metadata": {
    "collapsed": false,
    "scrolled": false
   },
   "outputs": [
    {
     "data": {
      "text/html": [
       "<div><style>\n",
       ".dataframe > thead > tr > th,\n",
       ".dataframe > tbody > tr > td {\n",
       "  text-align: right;\n",
       "}\n",
       "</style>\n",
       "<small>shape: (10, 5)</small><table border=\"1\" class=\"dataframe\"><thead><tr><th>order_id</th><th>quantity</th><th>item_name</th><th>choice_description</th><th>item_price</th></tr><tr><td>i64</td><td>i64</td><td>str</td><td>str</td><td>str</td></tr></thead><tbody><tr><td>1</td><td>1</td><td>&quot;Chips and Fres…</td><td>null</td><td>&quot;$2.39 &quot;</td></tr><tr><td>1</td><td>1</td><td>&quot;Izze&quot;</td><td>&quot;[Clementine]&quot;</td><td>&quot;$3.39 &quot;</td></tr><tr><td>1</td><td>1</td><td>&quot;Nantucket Nect…</td><td>&quot;[Apple]&quot;</td><td>&quot;$3.39 &quot;</td></tr><tr><td>1</td><td>1</td><td>&quot;Chips and Toma…</td><td>null</td><td>&quot;$2.39 &quot;</td></tr><tr><td>2</td><td>2</td><td>&quot;Chicken Bowl&quot;</td><td>&quot;[Tomatillo-Red…</td><td>&quot;$16.98 &quot;</td></tr><tr><td>3</td><td>1</td><td>&quot;Chicken Bowl&quot;</td><td>&quot;[Fresh Tomato …</td><td>&quot;$10.98 &quot;</td></tr><tr><td>3</td><td>1</td><td>&quot;Side of Chips&quot;</td><td>null</td><td>&quot;$1.69 &quot;</td></tr><tr><td>4</td><td>1</td><td>&quot;Steak Burrito&quot;</td><td>&quot;[Tomatillo Red…</td><td>&quot;$11.75 &quot;</td></tr><tr><td>4</td><td>1</td><td>&quot;Steak Soft Tac…</td><td>&quot;[Tomatillo Gre…</td><td>&quot;$9.25 &quot;</td></tr><tr><td>5</td><td>1</td><td>&quot;Steak Burrito&quot;</td><td>&quot;[Fresh Tomato …</td><td>&quot;$9.25 &quot;</td></tr></tbody></table></div>"
      ],
      "text/plain": [
       "shape: (10, 5)\n",
       "┌──────────┬──────────┬───────────────────────────────┬───────────────────────────────┬────────────┐\n",
       "│ order_id ┆ quantity ┆ item_name                     ┆ choice_description            ┆ item_price │\n",
       "│ ---      ┆ ---      ┆ ---                           ┆ ---                           ┆ ---        │\n",
       "│ i64      ┆ i64      ┆ str                           ┆ str                           ┆ str        │\n",
       "╞══════════╪══════════╪═══════════════════════════════╪═══════════════════════════════╪════════════╡\n",
       "│ 1        ┆ 1        ┆ Chips and Fresh Tomato Salsa  ┆ null                          ┆ $2.39      │\n",
       "│ 1        ┆ 1        ┆ Izze                          ┆ [Clementine]                  ┆ $3.39      │\n",
       "│ 1        ┆ 1        ┆ Nantucket Nectar              ┆ [Apple]                       ┆ $3.39      │\n",
       "│ 1        ┆ 1        ┆ Chips and Tomatillo-Green     ┆ null                          ┆ $2.39      │\n",
       "│          ┆          ┆ Chili …                       ┆                               ┆            │\n",
       "│ …        ┆ …        ┆ …                             ┆ …                             ┆ …          │\n",
       "│ 3        ┆ 1        ┆ Side of Chips                 ┆ null                          ┆ $1.69      │\n",
       "│ 4        ┆ 1        ┆ Steak Burrito                 ┆ [Tomatillo Red Chili Salsa,   ┆ $11.75     │\n",
       "│          ┆          ┆                               ┆ [Faj…                         ┆            │\n",
       "│ 4        ┆ 1        ┆ Steak Soft Tacos              ┆ [Tomatillo Green Chili Salsa, ┆ $9.25      │\n",
       "│          ┆          ┆                               ┆ [P…                           ┆            │\n",
       "│ 5        ┆ 1        ┆ Steak Burrito                 ┆ [Fresh Tomato Salsa, [Rice,   ┆ $9.25      │\n",
       "│          ┆          ┆                               ┆ Blac…                         ┆            │\n",
       "└──────────┴──────────┴───────────────────────────────┴───────────────────────────────┴────────────┘"
      ]
     },
     "execution_count": 3,
     "metadata": {},
     "output_type": "execute_result"
    }
   ],
   "source": [
    "chipo.head(10)"
   ]
  },
  {
   "attachments": {},
   "cell_type": "markdown",
   "metadata": {},
   "source": [
    "### Step 5. What is the number of observations in the dataset?"
   ]
  },
  {
   "cell_type": "code",
   "execution_count": 4,
   "metadata": {
    "collapsed": false
   },
   "outputs": [
    {
     "data": {
      "text/plain": [
       "(4622, 5)"
      ]
     },
     "execution_count": 4,
     "metadata": {},
     "output_type": "execute_result"
    }
   ],
   "source": [
    "# Solution 1\n",
    "\n",
    "chipo.shape  # entries <= 4622 observations"
   ]
  },
  {
   "cell_type": "code",
   "execution_count": 5,
   "metadata": {
    "collapsed": false
   },
   "outputs": [
    {
     "data": {
      "text/plain": [
       "4622"
      ]
     },
     "execution_count": 5,
     "metadata": {},
     "output_type": "execute_result"
    }
   ],
   "source": [
    "# Solution 2\n",
    "\n",
    "chipo.height # entries <= 4622 observations"
   ]
  },
  {
   "attachments": {},
   "cell_type": "markdown",
   "metadata": {},
   "source": [
    "### Step 6. What is the number of columns in the dataset?"
   ]
  },
  {
   "cell_type": "code",
   "execution_count": 6,
   "metadata": {
    "collapsed": false
   },
   "outputs": [
    {
     "data": {
      "text/plain": [
       "5"
      ]
     },
     "execution_count": 6,
     "metadata": {},
     "output_type": "execute_result"
    }
   ],
   "source": [
    "chipo.width"
   ]
  },
  {
   "attachments": {},
   "cell_type": "markdown",
   "metadata": {},
   "source": [
    "### Step 7. Print the name of all the columns."
   ]
  },
  {
   "cell_type": "code",
   "execution_count": 7,
   "metadata": {
    "collapsed": false
   },
   "outputs": [
    {
     "data": {
      "text/plain": [
       "['order_id', 'quantity', 'item_name', 'choice_description', 'item_price']"
      ]
     },
     "execution_count": 7,
     "metadata": {},
     "output_type": "execute_result"
    }
   ],
   "source": [
    "chipo.columns"
   ]
  },
  {
   "attachments": {},
   "cell_type": "markdown",
   "metadata": {},
   "source": [
    "### Step 8. What are the datatypes of the dataframe?"
   ]
  },
  {
   "cell_type": "code",
   "execution_count": 8,
   "metadata": {
    "collapsed": false
   },
   "outputs": [
    {
     "data": {
      "text/plain": [
       "{'order_id': Int64,\n",
       " 'quantity': Int64,\n",
       " 'item_name': Utf8,\n",
       " 'choice_description': Utf8,\n",
       " 'item_price': Utf8}"
      ]
     },
     "execution_count": 8,
     "metadata": {},
     "output_type": "execute_result"
    }
   ],
   "source": [
    "chipo.schema"
   ]
  },
  {
   "attachments": {},
   "cell_type": "markdown",
   "metadata": {},
   "source": [
    "### Step 9. Which was the most-ordered item? "
   ]
  },
  {
   "cell_type": "code",
   "execution_count": 9,
   "metadata": {
    "collapsed": false
   },
   "outputs": [
    {
     "data": {
      "text/html": [
       "<div><style>\n",
       ".dataframe > thead > tr > th,\n",
       ".dataframe > tbody > tr > td {\n",
       "  text-align: right;\n",
       "}\n",
       "</style>\n",
       "<small>shape: (1, 2)</small><table border=\"1\" class=\"dataframe\"><thead><tr><th>item_name</th><th>quantity</th></tr><tr><td>str</td><td>i64</td></tr></thead><tbody><tr><td>&quot;Chicken Bowl&quot;</td><td>761</td></tr></tbody></table></div>"
      ],
      "text/plain": [
       "shape: (1, 2)\n",
       "┌──────────────┬──────────┐\n",
       "│ item_name    ┆ quantity │\n",
       "│ ---          ┆ ---      │\n",
       "│ str          ┆ i64      │\n",
       "╞══════════════╪══════════╡\n",
       "│ Chicken Bowl ┆ 761      │\n",
       "└──────────────┴──────────┘"
      ]
     },
     "execution_count": 9,
     "metadata": {},
     "output_type": "execute_result"
    }
   ],
   "source": [
    "chipo.groupby('item_name').agg(\n",
    "    pl.col('quantity').sum()\n",
    ").sort('quantity', descending=True).head(1)"
   ]
  },
  {
   "attachments": {},
   "cell_type": "markdown",
   "metadata": {},
   "source": [
    "### Step 11. What was the most ordered item in the choice_description column?"
   ]
  },
  {
   "cell_type": "code",
   "execution_count": 10,
   "metadata": {
    "collapsed": false
   },
   "outputs": [
    {
     "data": {
      "text/html": [
       "<div><style>\n",
       ".dataframe > thead > tr > th,\n",
       ".dataframe > tbody > tr > td {\n",
       "  text-align: right;\n",
       "}\n",
       "</style>\n",
       "<small>shape: (1, 2)</small><table border=\"1\" class=\"dataframe\"><thead><tr><th>choice_description</th><th>quantity</th></tr><tr><td>str</td><td>i64</td></tr></thead><tbody><tr><td>&quot;[Diet Coke]&quot;</td><td>159</td></tr></tbody></table></div>"
      ],
      "text/plain": [
       "shape: (1, 2)\n",
       "┌────────────────────┬──────────┐\n",
       "│ choice_description ┆ quantity │\n",
       "│ ---                ┆ ---      │\n",
       "│ str                ┆ i64      │\n",
       "╞════════════════════╪══════════╡\n",
       "│ [Diet Coke]        ┆ 159      │\n",
       "└────────────────────┴──────────┘"
      ]
     },
     "execution_count": 10,
     "metadata": {},
     "output_type": "execute_result"
    }
   ],
   "source": [
    "(chipo.lazy()\n",
    "    .drop_nulls(subset='choice_description')\n",
    "    .groupby('choice_description')\n",
    "    .agg(pl.col('quantity').sum())\n",
    "    .top_k(1, by='quantity')\n",
    "    .collect()\n",
    ")"
   ]
  },
  {
   "attachments": {},
   "cell_type": "markdown",
   "metadata": {},
   "source": [
    "### Step 12. How many items were orderd in total?"
   ]
  },
  {
   "cell_type": "code",
   "execution_count": 11,
   "metadata": {
    "collapsed": false
   },
   "outputs": [
    {
     "data": {
      "text/plain": [
       "4972"
      ]
     },
     "execution_count": 11,
     "metadata": {},
     "output_type": "execute_result"
    }
   ],
   "source": [
    "chipo['quantity'].sum()"
   ]
  },
  {
   "attachments": {},
   "cell_type": "markdown",
   "metadata": {},
   "source": [
    "### Step 13. Turn the item price into a float"
   ]
  },
  {
   "attachments": {},
   "cell_type": "markdown",
   "metadata": {},
   "source": [
    "#### Step 13.a. Check the item price type"
   ]
  },
  {
   "cell_type": "code",
   "execution_count": 12,
   "metadata": {
    "collapsed": false
   },
   "outputs": [
    {
     "data": {
      "text/plain": [
       "Utf8"
      ]
     },
     "metadata": {},
     "output_type": "display_data"
    },
    {
     "data": {
      "text/plain": [
       "Utf8"
      ]
     },
     "metadata": {},
     "output_type": "display_data"
    }
   ],
   "source": [
    "display(chipo['item_price'].dtype)\n",
    "\n",
    "#or\n",
    "\n",
    "display(chipo.schema['item_price'])"
   ]
  },
  {
   "attachments": {},
   "cell_type": "markdown",
   "metadata": {},
   "source": [
    "#### Step 13.b. Parse the `item_price` as a `pl.Float32`"
   ]
  },
  {
   "cell_type": "code",
   "execution_count": 13,
   "metadata": {
    "collapsed": true
   },
   "outputs": [
    {
     "data": {
      "text/html": [
       "<div><style>\n",
       ".dataframe > thead > tr > th,\n",
       ".dataframe > tbody > tr > td {\n",
       "  text-align: right;\n",
       "}\n",
       "</style>\n",
       "<small>shape: (5, 5)</small><table border=\"1\" class=\"dataframe\"><thead><tr><th>order_id</th><th>quantity</th><th>item_name</th><th>choice_description</th><th>item_price</th></tr><tr><td>i64</td><td>i64</td><td>str</td><td>str</td><td>f32</td></tr></thead><tbody><tr><td>1</td><td>1</td><td>&quot;Chips and Fres…</td><td>null</td><td>2.39</td></tr><tr><td>1</td><td>1</td><td>&quot;Izze&quot;</td><td>&quot;[Clementine]&quot;</td><td>3.39</td></tr><tr><td>1</td><td>1</td><td>&quot;Nantucket Nect…</td><td>&quot;[Apple]&quot;</td><td>3.39</td></tr><tr><td>1</td><td>1</td><td>&quot;Chips and Toma…</td><td>null</td><td>2.39</td></tr><tr><td>2</td><td>2</td><td>&quot;Chicken Bowl&quot;</td><td>&quot;[Tomatillo-Red…</td><td>16.98</td></tr></tbody></table></div>"
      ],
      "text/plain": [
       "shape: (5, 5)\n",
       "┌──────────┬──────────┬──────────────────────────────────┬────────────────────────────┬────────────┐\n",
       "│ order_id ┆ quantity ┆ item_name                        ┆ choice_description         ┆ item_price │\n",
       "│ ---      ┆ ---      ┆ ---                              ┆ ---                        ┆ ---        │\n",
       "│ i64      ┆ i64      ┆ str                              ┆ str                        ┆ f32        │\n",
       "╞══════════╪══════════╪══════════════════════════════════╪════════════════════════════╪════════════╡\n",
       "│ 1        ┆ 1        ┆ Chips and Fresh Tomato Salsa     ┆ null                       ┆ 2.39       │\n",
       "│ 1        ┆ 1        ┆ Izze                             ┆ [Clementine]               ┆ 3.39       │\n",
       "│ 1        ┆ 1        ┆ Nantucket Nectar                 ┆ [Apple]                    ┆ 3.39       │\n",
       "│ 1        ┆ 1        ┆ Chips and Tomatillo-Green Chili  ┆ null                       ┆ 2.39       │\n",
       "│          ┆          ┆ …                                ┆                            ┆            │\n",
       "│ 2        ┆ 2        ┆ Chicken Bowl                     ┆ [Tomatillo-Red Chili Salsa ┆ 16.98      │\n",
       "│          ┆          ┆                                  ┆ (Hot)…                     ┆            │\n",
       "└──────────┴──────────┴──────────────────────────────────┴────────────────────────────┴────────────┘"
      ]
     },
     "execution_count": 13,
     "metadata": {},
     "output_type": "execute_result"
    }
   ],
   "source": [
    "chipo = chipo.with_columns(\n",
    "    pl.col('item_price').str.strip('$ ').cast(pl.Float32)\n",
    ")\n",
    "\n",
    "chipo.head()"
   ]
  },
  {
   "attachments": {},
   "cell_type": "markdown",
   "metadata": {},
   "source": [
    "#### Step 13.c. Check the item price type"
   ]
  },
  {
   "cell_type": "code",
   "execution_count": 14,
   "metadata": {
    "collapsed": false
   },
   "outputs": [
    {
     "data": {
      "text/plain": [
       "Float32"
      ]
     },
     "execution_count": 14,
     "metadata": {},
     "output_type": "execute_result"
    }
   ],
   "source": [
    "chipo['item_price'].dtype"
   ]
  },
  {
   "attachments": {},
   "cell_type": "markdown",
   "metadata": {},
   "source": [
    "### Step 14. How much was the revenue for the period in the dataset?"
   ]
  },
  {
   "cell_type": "code",
   "execution_count": 15,
   "metadata": {
    "collapsed": false
   },
   "outputs": [
    {
     "name": "stdout",
     "output_type": "stream",
     "text": [
      "Revenue was: $39237.02\n"
     ]
    }
   ],
   "source": [
    "revenue = chipo.select(\n",
    "    (pl.col('quantity') * pl.col('item_price')).sum().round(2)\n",
    ").item()\n",
    "\n",
    "print(f'Revenue was: ${revenue}')"
   ]
  },
  {
   "attachments": {},
   "cell_type": "markdown",
   "metadata": {},
   "source": [
    "### Step 15. How many orders were made in the period?"
   ]
  },
  {
   "cell_type": "code",
   "execution_count": 16,
   "metadata": {
    "collapsed": false
   },
   "outputs": [
    {
     "data": {
      "text/plain": [
       "1834"
      ]
     },
     "execution_count": 16,
     "metadata": {},
     "output_type": "execute_result"
    }
   ],
   "source": [
    "chipo['order_id'].n_unique()"
   ]
  },
  {
   "attachments": {},
   "cell_type": "markdown",
   "metadata": {},
   "source": [
    "### Step 16. What is the average revenue amount per order?"
   ]
  },
  {
   "cell_type": "code",
   "execution_count": 17,
   "metadata": {
    "collapsed": false
   },
   "outputs": [
    {
     "data": {
      "text/plain": [
       "21.39423104265914"
      ]
     },
     "execution_count": 17,
     "metadata": {},
     "output_type": "execute_result"
    }
   ],
   "source": [
    "chipo.groupby('order_id').agg(\n",
    "    (pl.col('quantity') * pl.col('item_price')).sum()\n",
    ").mean().item(row=0, column='quantity')"
   ]
  },
  {
   "attachments": {},
   "cell_type": "markdown",
   "metadata": {},
   "source": [
    "### Step 17. How many different items are sold?"
   ]
  },
  {
   "cell_type": "code",
   "execution_count": 18,
   "metadata": {
    "collapsed": false
   },
   "outputs": [
    {
     "data": {
      "text/plain": [
       "50"
      ]
     },
     "execution_count": 18,
     "metadata": {},
     "output_type": "execute_result"
    }
   ],
   "source": [
    "chipo['item_name'].n_unique()"
   ]
  },
  {
   "cell_type": "code",
   "execution_count": 19,
   "metadata": {},
   "outputs": [
    {
     "name": "stdout",
     "output_type": "stream",
     "text": [
      "Time elapsed: 0.23923397064208984\n"
     ]
    }
   ],
   "source": [
    "print(f\"Time elapsed: {time.time() - start_time}\")"
   ]
  }
 ],
 "metadata": {
  "anaconda-cloud": {},
  "kernelspec": {
   "display_name": "polars",
   "language": "python",
   "name": "python3"
  },
  "language_info": {
   "codemirror_mode": {
    "name": "ipython",
    "version": 3
   },
   "file_extension": ".py",
   "mimetype": "text/x-python",
   "name": "python",
   "nbconvert_exporter": "python",
   "pygments_lexer": "ipython3",
   "version": "3.11.3"
  }
 },
 "nbformat": 4,
 "nbformat_minor": 0
}
