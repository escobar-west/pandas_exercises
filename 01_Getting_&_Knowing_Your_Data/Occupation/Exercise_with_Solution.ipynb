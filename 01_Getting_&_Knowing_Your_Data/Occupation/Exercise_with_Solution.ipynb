{
 "cells": [
  {
   "attachments": {},
   "cell_type": "markdown",
   "metadata": {},
   "source": [
    "# Ex3 - Getting and Knowing your Data\n",
    "\n",
    "Check out [Occupation Exercises Video Tutorial](https://www.youtube.com/watch?v=W8AB5s-L3Rw&list=PLgJhDSE2ZLxaY_DigHeiIDC1cD09rXgJv&index=4) to watch a data scientist go through the exercises"
   ]
  },
  {
   "attachments": {},
   "cell_type": "markdown",
   "metadata": {},
   "source": [
    "This time we are going to pull data directly from the internet.\n",
    "Special thanks to: https://github.com/justmarkham for sharing the dataset and materials.\n",
    "\n",
    "### Step 1. Import the necessary libraries"
   ]
  },
  {
   "cell_type": "code",
   "execution_count": 1,
   "metadata": {},
   "outputs": [],
   "source": [
    "import polars as pl\n",
    "import time\n",
    "\n",
    "start_time = time.time()"
   ]
  },
  {
   "attachments": {},
   "cell_type": "markdown",
   "metadata": {},
   "source": [
    "### Step 2. Import the dataset from this [address](https://raw.githubusercontent.com/justmarkham/DAT8/master/data/u.user). "
   ]
  },
  {
   "attachments": {},
   "cell_type": "markdown",
   "metadata": {},
   "source": [
    "### Step 3. Assign it to a variable called users and use the 'user_id' as index"
   ]
  },
  {
   "cell_type": "code",
   "execution_count": 2,
   "metadata": {},
   "outputs": [],
   "source": [
    "dtypes = {'gender': pl.Categorical, 'occupation': pl.Categorical}\n",
    "users = pl.read_csv('https://raw.githubusercontent.com/justmarkham/DAT8/master/data/u.user', \n",
    "                      separator='|', dtypes=dtypes)"
   ]
  },
  {
   "attachments": {},
   "cell_type": "markdown",
   "metadata": {},
   "source": [
    "### Step 4. See the first 25 entries"
   ]
  },
  {
   "cell_type": "code",
   "execution_count": 3,
   "metadata": {
    "scrolled": true
   },
   "outputs": [
    {
     "data": {
      "text/html": [
       "<div><style>\n",
       ".dataframe > thead > tr > th,\n",
       ".dataframe > tbody > tr > td {\n",
       "  text-align: right;\n",
       "}\n",
       "</style>\n",
       "<small>shape: (25, 5)</small><table border=\"1\" class=\"dataframe\"><thead><tr><th>user_id</th><th>age</th><th>gender</th><th>occupation</th><th>zip_code</th></tr><tr><td>i64</td><td>i64</td><td>cat</td><td>cat</td><td>str</td></tr></thead><tbody><tr><td>1</td><td>24</td><td>&quot;M&quot;</td><td>&quot;technician&quot;</td><td>&quot;85711&quot;</td></tr><tr><td>2</td><td>53</td><td>&quot;F&quot;</td><td>&quot;other&quot;</td><td>&quot;94043&quot;</td></tr><tr><td>3</td><td>23</td><td>&quot;M&quot;</td><td>&quot;writer&quot;</td><td>&quot;32067&quot;</td></tr><tr><td>4</td><td>24</td><td>&quot;M&quot;</td><td>&quot;technician&quot;</td><td>&quot;43537&quot;</td></tr><tr><td>5</td><td>33</td><td>&quot;F&quot;</td><td>&quot;other&quot;</td><td>&quot;15213&quot;</td></tr><tr><td>6</td><td>42</td><td>&quot;M&quot;</td><td>&quot;executive&quot;</td><td>&quot;98101&quot;</td></tr><tr><td>7</td><td>57</td><td>&quot;M&quot;</td><td>&quot;administrator&quot;</td><td>&quot;91344&quot;</td></tr><tr><td>8</td><td>36</td><td>&quot;M&quot;</td><td>&quot;administrator&quot;</td><td>&quot;05201&quot;</td></tr><tr><td>9</td><td>29</td><td>&quot;M&quot;</td><td>&quot;student&quot;</td><td>&quot;01002&quot;</td></tr><tr><td>10</td><td>53</td><td>&quot;M&quot;</td><td>&quot;lawyer&quot;</td><td>&quot;90703&quot;</td></tr><tr><td>11</td><td>39</td><td>&quot;F&quot;</td><td>&quot;other&quot;</td><td>&quot;30329&quot;</td></tr><tr><td>12</td><td>28</td><td>&quot;F&quot;</td><td>&quot;other&quot;</td><td>&quot;06405&quot;</td></tr><tr><td>13</td><td>47</td><td>&quot;M&quot;</td><td>&quot;educator&quot;</td><td>&quot;29206&quot;</td></tr><tr><td>14</td><td>45</td><td>&quot;M&quot;</td><td>&quot;scientist&quot;</td><td>&quot;55106&quot;</td></tr><tr><td>15</td><td>49</td><td>&quot;F&quot;</td><td>&quot;educator&quot;</td><td>&quot;97301&quot;</td></tr><tr><td>16</td><td>21</td><td>&quot;M&quot;</td><td>&quot;entertainment&quot;</td><td>&quot;10309&quot;</td></tr><tr><td>17</td><td>30</td><td>&quot;M&quot;</td><td>&quot;programmer&quot;</td><td>&quot;06355&quot;</td></tr><tr><td>18</td><td>35</td><td>&quot;F&quot;</td><td>&quot;other&quot;</td><td>&quot;37212&quot;</td></tr><tr><td>19</td><td>40</td><td>&quot;M&quot;</td><td>&quot;librarian&quot;</td><td>&quot;02138&quot;</td></tr><tr><td>20</td><td>42</td><td>&quot;F&quot;</td><td>&quot;homemaker&quot;</td><td>&quot;95660&quot;</td></tr><tr><td>21</td><td>26</td><td>&quot;M&quot;</td><td>&quot;writer&quot;</td><td>&quot;30068&quot;</td></tr><tr><td>22</td><td>25</td><td>&quot;M&quot;</td><td>&quot;writer&quot;</td><td>&quot;40206&quot;</td></tr><tr><td>23</td><td>30</td><td>&quot;F&quot;</td><td>&quot;artist&quot;</td><td>&quot;48197&quot;</td></tr><tr><td>24</td><td>21</td><td>&quot;F&quot;</td><td>&quot;artist&quot;</td><td>&quot;94533&quot;</td></tr><tr><td>25</td><td>39</td><td>&quot;M&quot;</td><td>&quot;engineer&quot;</td><td>&quot;55107&quot;</td></tr></tbody></table></div>"
      ],
      "text/plain": [
       "shape: (25, 5)\n",
       "┌─────────┬─────┬────────┬────────────┬──────────┐\n",
       "│ user_id ┆ age ┆ gender ┆ occupation ┆ zip_code │\n",
       "│ ---     ┆ --- ┆ ---    ┆ ---        ┆ ---      │\n",
       "│ i64     ┆ i64 ┆ cat    ┆ cat        ┆ str      │\n",
       "╞═════════╪═════╪════════╪════════════╪══════════╡\n",
       "│ 1       ┆ 24  ┆ M      ┆ technician ┆ 85711    │\n",
       "│ 2       ┆ 53  ┆ F      ┆ other      ┆ 94043    │\n",
       "│ 3       ┆ 23  ┆ M      ┆ writer     ┆ 32067    │\n",
       "│ 4       ┆ 24  ┆ M      ┆ technician ┆ 43537    │\n",
       "│ …       ┆ …   ┆ …      ┆ …          ┆ …        │\n",
       "│ 22      ┆ 25  ┆ M      ┆ writer     ┆ 40206    │\n",
       "│ 23      ┆ 30  ┆ F      ┆ artist     ┆ 48197    │\n",
       "│ 24      ┆ 21  ┆ F      ┆ artist     ┆ 94533    │\n",
       "│ 25      ┆ 39  ┆ M      ┆ engineer   ┆ 55107    │\n",
       "└─────────┴─────┴────────┴────────────┴──────────┘"
      ]
     },
     "execution_count": 3,
     "metadata": {},
     "output_type": "execute_result"
    }
   ],
   "source": [
    "users.head(25)"
   ]
  },
  {
   "attachments": {},
   "cell_type": "markdown",
   "metadata": {},
   "source": [
    "### Step 5. See the last 10 entries"
   ]
  },
  {
   "cell_type": "code",
   "execution_count": 4,
   "metadata": {
    "scrolled": true
   },
   "outputs": [
    {
     "data": {
      "text/html": [
       "<div><style>\n",
       ".dataframe > thead > tr > th,\n",
       ".dataframe > tbody > tr > td {\n",
       "  text-align: right;\n",
       "}\n",
       "</style>\n",
       "<small>shape: (10, 5)</small><table border=\"1\" class=\"dataframe\"><thead><tr><th>user_id</th><th>age</th><th>gender</th><th>occupation</th><th>zip_code</th></tr><tr><td>i64</td><td>i64</td><td>cat</td><td>cat</td><td>str</td></tr></thead><tbody><tr><td>934</td><td>61</td><td>&quot;M&quot;</td><td>&quot;engineer&quot;</td><td>&quot;22902&quot;</td></tr><tr><td>935</td><td>42</td><td>&quot;M&quot;</td><td>&quot;doctor&quot;</td><td>&quot;66221&quot;</td></tr><tr><td>936</td><td>24</td><td>&quot;M&quot;</td><td>&quot;other&quot;</td><td>&quot;32789&quot;</td></tr><tr><td>937</td><td>48</td><td>&quot;M&quot;</td><td>&quot;educator&quot;</td><td>&quot;98072&quot;</td></tr><tr><td>938</td><td>38</td><td>&quot;F&quot;</td><td>&quot;technician&quot;</td><td>&quot;55038&quot;</td></tr><tr><td>939</td><td>26</td><td>&quot;F&quot;</td><td>&quot;student&quot;</td><td>&quot;33319&quot;</td></tr><tr><td>940</td><td>32</td><td>&quot;M&quot;</td><td>&quot;administrator&quot;</td><td>&quot;02215&quot;</td></tr><tr><td>941</td><td>20</td><td>&quot;M&quot;</td><td>&quot;student&quot;</td><td>&quot;97229&quot;</td></tr><tr><td>942</td><td>48</td><td>&quot;F&quot;</td><td>&quot;librarian&quot;</td><td>&quot;78209&quot;</td></tr><tr><td>943</td><td>22</td><td>&quot;M&quot;</td><td>&quot;student&quot;</td><td>&quot;77841&quot;</td></tr></tbody></table></div>"
      ],
      "text/plain": [
       "shape: (10, 5)\n",
       "┌─────────┬─────┬────────┬───────────────┬──────────┐\n",
       "│ user_id ┆ age ┆ gender ┆ occupation    ┆ zip_code │\n",
       "│ ---     ┆ --- ┆ ---    ┆ ---           ┆ ---      │\n",
       "│ i64     ┆ i64 ┆ cat    ┆ cat           ┆ str      │\n",
       "╞═════════╪═════╪════════╪═══════════════╪══════════╡\n",
       "│ 934     ┆ 61  ┆ M      ┆ engineer      ┆ 22902    │\n",
       "│ 935     ┆ 42  ┆ M      ┆ doctor        ┆ 66221    │\n",
       "│ 936     ┆ 24  ┆ M      ┆ other         ┆ 32789    │\n",
       "│ 937     ┆ 48  ┆ M      ┆ educator      ┆ 98072    │\n",
       "│ …       ┆ …   ┆ …      ┆ …             ┆ …        │\n",
       "│ 940     ┆ 32  ┆ M      ┆ administrator ┆ 02215    │\n",
       "│ 941     ┆ 20  ┆ M      ┆ student       ┆ 97229    │\n",
       "│ 942     ┆ 48  ┆ F      ┆ librarian     ┆ 78209    │\n",
       "│ 943     ┆ 22  ┆ M      ┆ student       ┆ 77841    │\n",
       "└─────────┴─────┴────────┴───────────────┴──────────┘"
      ]
     },
     "execution_count": 4,
     "metadata": {},
     "output_type": "execute_result"
    }
   ],
   "source": [
    "users.tail(10)"
   ]
  },
  {
   "attachments": {},
   "cell_type": "markdown",
   "metadata": {},
   "source": [
    "### Step 6. What is the number of observations in the dataset?"
   ]
  },
  {
   "cell_type": "code",
   "execution_count": 5,
   "metadata": {},
   "outputs": [
    {
     "data": {
      "text/plain": [
       "943"
      ]
     },
     "execution_count": 5,
     "metadata": {},
     "output_type": "execute_result"
    }
   ],
   "source": [
    "users.height"
   ]
  },
  {
   "attachments": {},
   "cell_type": "markdown",
   "metadata": {},
   "source": [
    "### Step 7. What is the number of columns in the dataset?"
   ]
  },
  {
   "cell_type": "code",
   "execution_count": 6,
   "metadata": {},
   "outputs": [
    {
     "data": {
      "text/plain": [
       "5"
      ]
     },
     "execution_count": 6,
     "metadata": {},
     "output_type": "execute_result"
    }
   ],
   "source": [
    "users.width"
   ]
  },
  {
   "attachments": {},
   "cell_type": "markdown",
   "metadata": {},
   "source": [
    "### Step 8. Print the name of all the columns."
   ]
  },
  {
   "cell_type": "code",
   "execution_count": 7,
   "metadata": {},
   "outputs": [
    {
     "data": {
      "text/plain": [
       "['user_id', 'age', 'gender', 'occupation', 'zip_code']"
      ]
     },
     "execution_count": 7,
     "metadata": {},
     "output_type": "execute_result"
    }
   ],
   "source": [
    "users.columns"
   ]
  },
  {
   "attachments": {},
   "cell_type": "markdown",
   "metadata": {},
   "source": [
    "### Step 10. What is the data type of each column?"
   ]
  },
  {
   "cell_type": "code",
   "execution_count": 8,
   "metadata": {},
   "outputs": [
    {
     "data": {
      "text/plain": [
       "{'user_id': Int64,\n",
       " 'age': Int64,\n",
       " 'gender': Categorical,\n",
       " 'occupation': Categorical,\n",
       " 'zip_code': Utf8}"
      ]
     },
     "execution_count": 8,
     "metadata": {},
     "output_type": "execute_result"
    }
   ],
   "source": [
    "users.schema"
   ]
  },
  {
   "attachments": {},
   "cell_type": "markdown",
   "metadata": {},
   "source": [
    "### Step 11. Print only the occupation column"
   ]
  },
  {
   "cell_type": "code",
   "execution_count": 9,
   "metadata": {},
   "outputs": [
    {
     "data": {
      "text/html": [
       "<div><style>\n",
       ".dataframe > thead > tr > th,\n",
       ".dataframe > tbody > tr > td {\n",
       "  text-align: right;\n",
       "}\n",
       "</style>\n",
       "<small>shape: (943,)</small><table border=\"1\" class=\"dataframe\"><thead><tr><th>occupation</th></tr><tr><td>cat</td></tr></thead><tbody><tr><td>&quot;technician&quot;</td></tr><tr><td>&quot;other&quot;</td></tr><tr><td>&quot;writer&quot;</td></tr><tr><td>&quot;technician&quot;</td></tr><tr><td>&quot;other&quot;</td></tr><tr><td>&quot;executive&quot;</td></tr><tr><td>&quot;administrator&quot;</td></tr><tr><td>&quot;administrator&quot;</td></tr><tr><td>&quot;student&quot;</td></tr><tr><td>&quot;lawyer&quot;</td></tr><tr><td>&quot;other&quot;</td></tr><tr><td>&quot;other&quot;</td></tr><tr><td>&hellip;</td></tr><tr><td>&quot;educator&quot;</td></tr><tr><td>&quot;student&quot;</td></tr><tr><td>&quot;engineer&quot;</td></tr><tr><td>&quot;doctor&quot;</td></tr><tr><td>&quot;other&quot;</td></tr><tr><td>&quot;educator&quot;</td></tr><tr><td>&quot;technician&quot;</td></tr><tr><td>&quot;student&quot;</td></tr><tr><td>&quot;administrator&quot;</td></tr><tr><td>&quot;student&quot;</td></tr><tr><td>&quot;librarian&quot;</td></tr><tr><td>&quot;student&quot;</td></tr></tbody></table></div>"
      ],
      "text/plain": [
       "shape: (943,)\n",
       "Series: 'occupation' [cat]\n",
       "[\n",
       "\t\"technician\"\n",
       "\t\"other\"\n",
       "\t\"writer\"\n",
       "\t\"technician\"\n",
       "\t\"other\"\n",
       "\t\"executive\"\n",
       "\t\"administrator\"\n",
       "\t\"administrator\"\n",
       "\t\"student\"\n",
       "\t\"lawyer\"\n",
       "\t\"other\"\n",
       "\t\"other\"\n",
       "\t…\n",
       "\t\"educator\"\n",
       "\t\"educator\"\n",
       "\t\"student\"\n",
       "\t\"engineer\"\n",
       "\t\"doctor\"\n",
       "\t\"other\"\n",
       "\t\"educator\"\n",
       "\t\"technician\"\n",
       "\t\"student\"\n",
       "\t\"administrator\"\n",
       "\t\"student\"\n",
       "\t\"librarian\"\n",
       "\t\"student\"\n",
       "]"
      ]
     },
     "execution_count": 9,
     "metadata": {},
     "output_type": "execute_result"
    }
   ],
   "source": [
    "users.select('occupation')\n",
    "\n",
    "#or\n",
    "\n",
    "users['occupation']"
   ]
  },
  {
   "attachments": {},
   "cell_type": "markdown",
   "metadata": {},
   "source": [
    "### Step 12. How many different occupations are in this dataset?"
   ]
  },
  {
   "cell_type": "code",
   "execution_count": 10,
   "metadata": {},
   "outputs": [
    {
     "data": {
      "text/plain": [
       "21"
      ]
     },
     "execution_count": 10,
     "metadata": {},
     "output_type": "execute_result"
    }
   ],
   "source": [
    "users['occupation'].n_unique()\n",
    "#or by using value_counts() which returns the count of unique elements\n",
    "#users.occupation.value_counts().count()"
   ]
  },
  {
   "attachments": {},
   "cell_type": "markdown",
   "metadata": {},
   "source": [
    "### Step 13. What is the most frequent occupation?"
   ]
  },
  {
   "cell_type": "code",
   "execution_count": 11,
   "metadata": {},
   "outputs": [
    {
     "data": {
      "text/html": [
       "<div><style>\n",
       ".dataframe > thead > tr > th,\n",
       ".dataframe > tbody > tr > td {\n",
       "  text-align: right;\n",
       "}\n",
       "</style>\n",
       "<small>shape: (5, 2)</small><table border=\"1\" class=\"dataframe\"><thead><tr><th>occupation</th><th>counts</th></tr><tr><td>cat</td><td>u32</td></tr></thead><tbody><tr><td>&quot;student&quot;</td><td>196</td></tr><tr><td>&quot;other&quot;</td><td>105</td></tr><tr><td>&quot;educator&quot;</td><td>95</td></tr><tr><td>&quot;administrator&quot;</td><td>79</td></tr><tr><td>&quot;engineer&quot;</td><td>67</td></tr></tbody></table></div>"
      ],
      "text/plain": [
       "shape: (5, 2)\n",
       "┌───────────────┬────────┐\n",
       "│ occupation    ┆ counts │\n",
       "│ ---           ┆ ---    │\n",
       "│ cat           ┆ u32    │\n",
       "╞═══════════════╪════════╡\n",
       "│ student       ┆ 196    │\n",
       "│ other         ┆ 105    │\n",
       "│ educator      ┆ 95     │\n",
       "│ administrator ┆ 79     │\n",
       "│ engineer      ┆ 67     │\n",
       "└───────────────┴────────┘"
      ]
     },
     "execution_count": 11,
     "metadata": {},
     "output_type": "execute_result"
    }
   ],
   "source": [
    "users['occupation'].value_counts().top_k(5, by='counts')"
   ]
  },
  {
   "attachments": {},
   "cell_type": "markdown",
   "metadata": {},
   "source": [
    "### Step 14. Summarize the DataFrame."
   ]
  },
  {
   "cell_type": "code",
   "execution_count": 12,
   "metadata": {},
   "outputs": [
    {
     "data": {
      "text/html": [
       "<div><style>\n",
       ".dataframe > thead > tr > th,\n",
       ".dataframe > tbody > tr > td {\n",
       "  text-align: right;\n",
       "}\n",
       "</style>\n",
       "<small>shape: (9, 6)</small><table border=\"1\" class=\"dataframe\"><thead><tr><th>describe</th><th>user_id</th><th>age</th><th>gender</th><th>occupation</th><th>zip_code</th></tr><tr><td>str</td><td>f64</td><td>f64</td><td>str</td><td>str</td><td>str</td></tr></thead><tbody><tr><td>&quot;count&quot;</td><td>943.0</td><td>943.0</td><td>&quot;943&quot;</td><td>&quot;943&quot;</td><td>&quot;943&quot;</td></tr><tr><td>&quot;null_count&quot;</td><td>0.0</td><td>0.0</td><td>&quot;0&quot;</td><td>&quot;0&quot;</td><td>&quot;0&quot;</td></tr><tr><td>&quot;mean&quot;</td><td>472.0</td><td>34.051962</td><td>null</td><td>null</td><td>null</td></tr><tr><td>&quot;std&quot;</td><td>272.364951</td><td>12.19274</td><td>null</td><td>null</td><td>null</td></tr><tr><td>&quot;min&quot;</td><td>1.0</td><td>7.0</td><td>null</td><td>null</td><td>&quot;00000&quot;</td></tr><tr><td>&quot;max&quot;</td><td>943.0</td><td>73.0</td><td>null</td><td>null</td><td>&quot;Y1A6B&quot;</td></tr><tr><td>&quot;median&quot;</td><td>472.0</td><td>31.0</td><td>null</td><td>null</td><td>null</td></tr><tr><td>&quot;25%&quot;</td><td>236.0</td><td>25.0</td><td>null</td><td>null</td><td>null</td></tr><tr><td>&quot;75%&quot;</td><td>708.0</td><td>43.0</td><td>null</td><td>null</td><td>null</td></tr></tbody></table></div>"
      ],
      "text/plain": [
       "shape: (9, 6)\n",
       "┌────────────┬────────────┬───────────┬────────┬────────────┬──────────┐\n",
       "│ describe   ┆ user_id    ┆ age       ┆ gender ┆ occupation ┆ zip_code │\n",
       "│ ---        ┆ ---        ┆ ---       ┆ ---    ┆ ---        ┆ ---      │\n",
       "│ str        ┆ f64        ┆ f64       ┆ str    ┆ str        ┆ str      │\n",
       "╞════════════╪════════════╪═══════════╪════════╪════════════╪══════════╡\n",
       "│ count      ┆ 943.0      ┆ 943.0     ┆ 943    ┆ 943        ┆ 943      │\n",
       "│ null_count ┆ 0.0        ┆ 0.0       ┆ 0      ┆ 0          ┆ 0        │\n",
       "│ mean       ┆ 472.0      ┆ 34.051962 ┆ null   ┆ null       ┆ null     │\n",
       "│ std        ┆ 272.364951 ┆ 12.19274  ┆ null   ┆ null       ┆ null     │\n",
       "│ min        ┆ 1.0        ┆ 7.0       ┆ null   ┆ null       ┆ 00000    │\n",
       "│ max        ┆ 943.0      ┆ 73.0      ┆ null   ┆ null       ┆ Y1A6B    │\n",
       "│ median     ┆ 472.0      ┆ 31.0      ┆ null   ┆ null       ┆ null     │\n",
       "│ 25%        ┆ 236.0      ┆ 25.0      ┆ null   ┆ null       ┆ null     │\n",
       "│ 75%        ┆ 708.0      ┆ 43.0      ┆ null   ┆ null       ┆ null     │\n",
       "└────────────┴────────────┴───────────┴────────┴────────────┴──────────┘"
      ]
     },
     "execution_count": 12,
     "metadata": {},
     "output_type": "execute_result"
    }
   ],
   "source": [
    "users.describe()"
   ]
  },
  {
   "attachments": {},
   "cell_type": "markdown",
   "metadata": {},
   "source": [
    "### Step 15. Summarize only the numeric columns"
   ]
  },
  {
   "cell_type": "code",
   "execution_count": 13,
   "metadata": {
    "scrolled": true
   },
   "outputs": [
    {
     "data": {
      "text/html": [
       "<div><style>\n",
       ".dataframe > thead > tr > th,\n",
       ".dataframe > tbody > tr > td {\n",
       "  text-align: right;\n",
       "}\n",
       "</style>\n",
       "<small>shape: (9, 3)</small><table border=\"1\" class=\"dataframe\"><thead><tr><th>describe</th><th>user_id</th><th>age</th></tr><tr><td>str</td><td>f64</td><td>f64</td></tr></thead><tbody><tr><td>&quot;count&quot;</td><td>943.0</td><td>943.0</td></tr><tr><td>&quot;null_count&quot;</td><td>0.0</td><td>0.0</td></tr><tr><td>&quot;mean&quot;</td><td>472.0</td><td>34.051962</td></tr><tr><td>&quot;std&quot;</td><td>272.364951</td><td>12.19274</td></tr><tr><td>&quot;min&quot;</td><td>1.0</td><td>7.0</td></tr><tr><td>&quot;max&quot;</td><td>943.0</td><td>73.0</td></tr><tr><td>&quot;median&quot;</td><td>472.0</td><td>31.0</td></tr><tr><td>&quot;25%&quot;</td><td>236.0</td><td>25.0</td></tr><tr><td>&quot;75%&quot;</td><td>708.0</td><td>43.0</td></tr></tbody></table></div>"
      ],
      "text/plain": [
       "shape: (9, 3)\n",
       "┌────────────┬────────────┬───────────┐\n",
       "│ describe   ┆ user_id    ┆ age       │\n",
       "│ ---        ┆ ---        ┆ ---       │\n",
       "│ str        ┆ f64        ┆ f64       │\n",
       "╞════════════╪════════════╪═══════════╡\n",
       "│ count      ┆ 943.0      ┆ 943.0     │\n",
       "│ null_count ┆ 0.0        ┆ 0.0       │\n",
       "│ mean       ┆ 472.0      ┆ 34.051962 │\n",
       "│ std        ┆ 272.364951 ┆ 12.19274  │\n",
       "│ min        ┆ 1.0        ┆ 7.0       │\n",
       "│ max        ┆ 943.0      ┆ 73.0      │\n",
       "│ median     ┆ 472.0      ┆ 31.0      │\n",
       "│ 25%        ┆ 236.0      ┆ 25.0      │\n",
       "│ 75%        ┆ 708.0      ┆ 43.0      │\n",
       "└────────────┴────────────┴───────────┘"
      ]
     },
     "execution_count": 13,
     "metadata": {},
     "output_type": "execute_result"
    }
   ],
   "source": [
    "users.select(pl.col(pl.INTEGER_DTYPES)).describe()"
   ]
  },
  {
   "attachments": {},
   "cell_type": "markdown",
   "metadata": {},
   "source": [
    "### Step 16. Summarize only the occupation column"
   ]
  },
  {
   "cell_type": "code",
   "execution_count": 14,
   "metadata": {},
   "outputs": [
    {
     "data": {
      "text/html": [
       "<div><style>\n",
       ".dataframe > thead > tr > th,\n",
       ".dataframe > tbody > tr > td {\n",
       "  text-align: right;\n",
       "}\n",
       "</style>\n",
       "<small>shape: (3, 2)</small><table border=\"1\" class=\"dataframe\"><thead><tr><th>statistic</th><th>value</th></tr><tr><td>str</td><td>i64</td></tr></thead><tbody><tr><td>&quot;count&quot;</td><td>943</td></tr><tr><td>&quot;null_count&quot;</td><td>0</td></tr><tr><td>&quot;unique&quot;</td><td>21</td></tr></tbody></table></div>"
      ],
      "text/plain": [
       "shape: (3, 2)\n",
       "┌────────────┬───────┐\n",
       "│ statistic  ┆ value │\n",
       "│ ---        ┆ ---   │\n",
       "│ str        ┆ i64   │\n",
       "╞════════════╪═══════╡\n",
       "│ count      ┆ 943   │\n",
       "│ null_count ┆ 0     │\n",
       "│ unique     ┆ 21    │\n",
       "└────────────┴───────┘"
      ]
     },
     "execution_count": 14,
     "metadata": {},
     "output_type": "execute_result"
    }
   ],
   "source": [
    "users['occupation'].cast(pl.Utf8).describe()"
   ]
  },
  {
   "attachments": {},
   "cell_type": "markdown",
   "metadata": {},
   "source": [
    "### Step 17. What is the mean age of users?"
   ]
  },
  {
   "cell_type": "code",
   "execution_count": 15,
   "metadata": {},
   "outputs": [
    {
     "data": {
      "text/plain": [
       "34"
      ]
     },
     "execution_count": 15,
     "metadata": {},
     "output_type": "execute_result"
    }
   ],
   "source": [
    "round(users['age'].mean())"
   ]
  },
  {
   "attachments": {},
   "cell_type": "markdown",
   "metadata": {},
   "source": [
    "### Step 18. What is the age with least occurrence?"
   ]
  },
  {
   "cell_type": "code",
   "execution_count": 16,
   "metadata": {},
   "outputs": [
    {
     "data": {
      "text/html": [
       "<div><style>\n",
       ".dataframe > thead > tr > th,\n",
       ".dataframe > tbody > tr > td {\n",
       "  text-align: right;\n",
       "}\n",
       "</style>\n",
       "<small>shape: (5, 2)</small><table border=\"1\" class=\"dataframe\"><thead><tr><th>age</th><th>counts</th></tr><tr><td>i64</td><td>u32</td></tr></thead><tbody><tr><td>73</td><td>1</td></tr><tr><td>11</td><td>1</td></tr><tr><td>66</td><td>1</td></tr><tr><td>7</td><td>1</td></tr><tr><td>10</td><td>1</td></tr></tbody></table></div>"
      ],
      "text/plain": [
       "shape: (5, 2)\n",
       "┌─────┬────────┐\n",
       "│ age ┆ counts │\n",
       "│ --- ┆ ---    │\n",
       "│ i64 ┆ u32    │\n",
       "╞═════╪════════╡\n",
       "│ 73  ┆ 1      │\n",
       "│ 11  ┆ 1      │\n",
       "│ 66  ┆ 1      │\n",
       "│ 7   ┆ 1      │\n",
       "│ 10  ┆ 1      │\n",
       "└─────┴────────┘"
      ]
     },
     "execution_count": 16,
     "metadata": {},
     "output_type": "execute_result"
    }
   ],
   "source": [
    "users['age'].value_counts().bottom_k(5, by='counts') #7, 10, 11, 66 and 73 years -> only 1 occurrence"
   ]
  },
  {
   "cell_type": "code",
   "execution_count": 17,
   "metadata": {},
   "outputs": [
    {
     "name": "stdout",
     "output_type": "stream",
     "text": [
      "Time elapsed: 0.1845848560333252\n"
     ]
    }
   ],
   "source": [
    "print(f\"Time elapsed: {time.time() - start_time}\")"
   ]
  }
 ],
 "metadata": {
  "anaconda-cloud": {},
  "kernelspec": {
   "display_name": "Python 3",
   "language": "python",
   "name": "python3"
  },
  "language_info": {
   "codemirror_mode": {
    "name": "ipython",
    "version": 3
   },
   "file_extension": ".py",
   "mimetype": "text/x-python",
   "name": "python",
   "nbconvert_exporter": "python",
   "pygments_lexer": "ipython3",
   "version": "3.11.3"
  }
 },
 "nbformat": 4,
 "nbformat_minor": 1
}
