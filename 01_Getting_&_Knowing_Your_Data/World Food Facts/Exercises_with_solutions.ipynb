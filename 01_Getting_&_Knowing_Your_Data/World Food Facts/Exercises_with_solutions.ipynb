{
 "cells": [
  {
   "attachments": {},
   "cell_type": "markdown",
   "metadata": {},
   "source": [
    "# Ex1 - Getting and knowing your Data\n",
    "Check out [World Food Facts Exercises Video Tutorial](https://youtu.be/_jCSK4cMcVw) to watch a data scientist go through the exercises"
   ]
  },
  {
   "attachments": {},
   "cell_type": "markdown",
   "metadata": {},
   "source": [
    "### Step 1. Go to https://www.kaggle.com/openfoodfacts/world-food-facts/data"
   ]
  },
  {
   "attachments": {},
   "cell_type": "markdown",
   "metadata": {},
   "source": [
    "###  Step 2. Download the dataset to your computer and unzip it."
   ]
  },
  {
   "cell_type": "code",
   "execution_count": 1,
   "metadata": {
    "collapsed": true
   },
   "outputs": [],
   "source": [
    "import polars as pl\n",
    "import time\n",
    "\n",
    "start_time = time.time()"
   ]
  },
  {
   "attachments": {},
   "cell_type": "markdown",
   "metadata": {},
   "source": [
    "### Step 3. Use the tsv file and assign it to a dataframe called food"
   ]
  },
  {
   "cell_type": "code",
   "execution_count": 2,
   "metadata": {},
   "outputs": [],
   "source": [
    "dtypes = {}\n",
    "food = pl.read_csv('en.openfoodfacts.org.products.tsv',\n",
    "                   separator='\\t',\n",
    "                   dtypes=dtypes,\n",
    "                   ignore_errors=True,\n",
    "                   try_parse_dates=True)"
   ]
  },
  {
   "attachments": {},
   "cell_type": "markdown",
   "metadata": {},
   "source": [
    "### Step 4. See the first 5 entries"
   ]
  },
  {
   "cell_type": "code",
   "execution_count": 3,
   "metadata": {},
   "outputs": [
    {
     "data": {
      "text/html": [
       "<div><style>\n",
       ".dataframe > thead > tr > th,\n",
       ".dataframe > tbody > tr > td {\n",
       "  text-align: right;\n",
       "}\n",
       "</style>\n",
       "<small>shape: (5, 163)</small><table border=\"1\" class=\"dataframe\"><thead><tr><th>code</th><th>url</th><th>creator</th><th>created_t</th><th>created_datetime</th><th>last_modified_t</th><th>last_modified_datetime</th><th>product_name</th><th>generic_name</th><th>quantity</th><th>packaging</th><th>packaging_tags</th><th>brands</th><th>brands_tags</th><th>categories</th><th>categories_tags</th><th>categories_en</th><th>origins</th><th>origins_tags</th><th>manufacturing_places</th><th>manufacturing_places_tags</th><th>labels</th><th>labels_tags</th><th>labels_en</th><th>emb_codes</th><th>emb_codes_tags</th><th>first_packaging_code_geo</th><th>cities</th><th>cities_tags</th><th>purchase_places</th><th>stores</th><th>countries</th><th>countries_tags</th><th>countries_en</th><th>ingredients_text</th><th>allergens</th><th>allergens_en</th><th>&hellip;</th><th>vitamin-b2_100g</th><th>vitamin-pp_100g</th><th>vitamin-b6_100g</th><th>vitamin-b9_100g</th><th>folates_100g</th><th>vitamin-b12_100g</th><th>biotin_100g</th><th>pantothenic-acid_100g</th><th>silica_100g</th><th>bicarbonate_100g</th><th>potassium_100g</th><th>chloride_100g</th><th>calcium_100g</th><th>phosphorus_100g</th><th>iron_100g</th><th>magnesium_100g</th><th>zinc_100g</th><th>copper_100g</th><th>manganese_100g</th><th>fluoride_100g</th><th>selenium_100g</th><th>chromium_100g</th><th>molybdenum_100g</th><th>iodine_100g</th><th>caffeine_100g</th><th>taurine_100g</th><th>ph_100g</th><th>fruits-vegetables-nuts_100g</th><th>fruits-vegetables-nuts-estimate_100g</th><th>collagen-meat-protein-ratio_100g</th><th>cocoa_100g</th><th>chlorophyl_100g</th><th>carbon-footprint_100g</th><th>nutrition-score-fr_100g</th><th>nutrition-score-uk_100g</th><th>glycemic-index_100g</th><th>water-hardness_100g</th></tr><tr><td>i64</td><td>str</td><td>str</td><td>i64</td><td>datetime[μs, UTC]</td><td>i64</td><td>datetime[μs, UTC]</td><td>str</td><td>str</td><td>str</td><td>str</td><td>str</td><td>str</td><td>str</td><td>str</td><td>str</td><td>str</td><td>str</td><td>str</td><td>str</td><td>str</td><td>str</td><td>str</td><td>str</td><td>str</td><td>str</td><td>str</td><td>str</td><td>str</td><td>str</td><td>str</td><td>str</td><td>str</td><td>str</td><td>str</td><td>str</td><td>str</td><td>&hellip;</td><td>str</td><td>str</td><td>str</td><td>str</td><td>str</td><td>str</td><td>str</td><td>str</td><td>str</td><td>str</td><td>str</td><td>str</td><td>f64</td><td>str</td><td>f64</td><td>str</td><td>str</td><td>str</td><td>str</td><td>str</td><td>str</td><td>str</td><td>str</td><td>str</td><td>str</td><td>str</td><td>str</td><td>str</td><td>str</td><td>str</td><td>str</td><td>str</td><td>str</td><td>i64</td><td>i64</td><td>str</td><td>str</td></tr></thead><tbody><tr><td>3087</td><td>&quot;http://world-e…</td><td>&quot;openfoodfacts-…</td><td>1474103866</td><td>2016-09-17 09:17:46 UTC</td><td>1474103893</td><td>2016-09-17 09:18:13 UTC</td><td>&quot;Farine de blé …</td><td>null</td><td>&quot;1kg&quot;</td><td>null</td><td>null</td><td>&quot;Ferme t&#x27;y R&#x27;na…</td><td>&quot;ferme-t-y-r-na…</td><td>null</td><td>null</td><td>null</td><td>null</td><td>null</td><td>null</td><td>null</td><td>null</td><td>null</td><td>null</td><td>null</td><td>null</td><td>null</td><td>null</td><td>null</td><td>null</td><td>null</td><td>&quot;en:FR&quot;</td><td>&quot;en:france&quot;</td><td>&quot;France&quot;</td><td>null</td><td>null</td><td>null</td><td>&hellip;</td><td>null</td><td>null</td><td>null</td><td>null</td><td>null</td><td>null</td><td>null</td><td>null</td><td>null</td><td>null</td><td>null</td><td>null</td><td>null</td><td>null</td><td>null</td><td>null</td><td>null</td><td>null</td><td>null</td><td>null</td><td>null</td><td>null</td><td>null</td><td>null</td><td>null</td><td>null</td><td>null</td><td>null</td><td>null</td><td>null</td><td>null</td><td>null</td><td>null</td><td>null</td><td>null</td><td>null</td><td>null</td></tr><tr><td>4530</td><td>&quot;http://world-e…</td><td>&quot;usda-ndb-impor…</td><td>1489069957</td><td>2017-03-09 14:32:37 UTC</td><td>1489069957</td><td>2017-03-09 14:32:37 UTC</td><td>&quot;Banana Chips S…</td><td>null</td><td>null</td><td>null</td><td>null</td><td>null</td><td>null</td><td>null</td><td>null</td><td>null</td><td>null</td><td>null</td><td>null</td><td>null</td><td>null</td><td>null</td><td>null</td><td>null</td><td>null</td><td>null</td><td>null</td><td>null</td><td>null</td><td>null</td><td>&quot;US&quot;</td><td>&quot;en:united-stat…</td><td>&quot;United States&quot;</td><td>&quot;Bananas, veget…</td><td>null</td><td>null</td><td>&hellip;</td><td>null</td><td>null</td><td>null</td><td>null</td><td>null</td><td>null</td><td>null</td><td>null</td><td>null</td><td>null</td><td>null</td><td>null</td><td>0.0</td><td>null</td><td>0.00129</td><td>null</td><td>null</td><td>null</td><td>null</td><td>null</td><td>null</td><td>null</td><td>null</td><td>null</td><td>null</td><td>null</td><td>null</td><td>null</td><td>null</td><td>null</td><td>null</td><td>null</td><td>null</td><td>14</td><td>14</td><td>null</td><td>null</td></tr><tr><td>4559</td><td>&quot;http://world-e…</td><td>&quot;usda-ndb-impor…</td><td>1489069957</td><td>2017-03-09 14:32:37 UTC</td><td>1489069957</td><td>2017-03-09 14:32:37 UTC</td><td>&quot;Peanuts&quot;</td><td>null</td><td>null</td><td>null</td><td>null</td><td>&quot;Torn &amp; Glasser…</td><td>&quot;torn-glasser&quot;</td><td>null</td><td>null</td><td>null</td><td>null</td><td>null</td><td>null</td><td>null</td><td>null</td><td>null</td><td>null</td><td>null</td><td>null</td><td>null</td><td>null</td><td>null</td><td>null</td><td>null</td><td>&quot;US&quot;</td><td>&quot;en:united-stat…</td><td>&quot;United States&quot;</td><td>&quot;Peanuts, wheat…</td><td>null</td><td>null</td><td>&hellip;</td><td>null</td><td>null</td><td>null</td><td>null</td><td>null</td><td>null</td><td>null</td><td>null</td><td>null</td><td>null</td><td>null</td><td>null</td><td>0.071</td><td>null</td><td>0.00129</td><td>null</td><td>null</td><td>null</td><td>null</td><td>null</td><td>null</td><td>null</td><td>null</td><td>null</td><td>null</td><td>null</td><td>null</td><td>null</td><td>null</td><td>null</td><td>null</td><td>null</td><td>null</td><td>0</td><td>0</td><td>null</td><td>null</td></tr><tr><td>16087</td><td>&quot;http://world-e…</td><td>&quot;usda-ndb-impor…</td><td>1489055731</td><td>2017-03-09 10:35:31 UTC</td><td>1489055731</td><td>2017-03-09 10:35:31 UTC</td><td>&quot;Organic Salted…</td><td>null</td><td>null</td><td>null</td><td>null</td><td>&quot;Grizzlies&quot;</td><td>&quot;grizzlies&quot;</td><td>null</td><td>null</td><td>null</td><td>null</td><td>null</td><td>null</td><td>null</td><td>null</td><td>null</td><td>null</td><td>null</td><td>null</td><td>null</td><td>null</td><td>null</td><td>null</td><td>null</td><td>&quot;US&quot;</td><td>&quot;en:united-stat…</td><td>&quot;United States&quot;</td><td>&quot;Organic hazeln…</td><td>null</td><td>null</td><td>&hellip;</td><td>null</td><td>null</td><td>null</td><td>null</td><td>null</td><td>null</td><td>null</td><td>null</td><td>null</td><td>null</td><td>null</td><td>null</td><td>0.143</td><td>null</td><td>0.00514</td><td>null</td><td>null</td><td>null</td><td>null</td><td>null</td><td>null</td><td>null</td><td>null</td><td>null</td><td>null</td><td>null</td><td>null</td><td>null</td><td>null</td><td>null</td><td>null</td><td>null</td><td>null</td><td>12</td><td>12</td><td>null</td><td>null</td></tr><tr><td>16094</td><td>&quot;http://world-e…</td><td>&quot;usda-ndb-impor…</td><td>1489055653</td><td>2017-03-09 10:34:13 UTC</td><td>1489055653</td><td>2017-03-09 10:34:13 UTC</td><td>&quot;Organic Polent…</td><td>null</td><td>null</td><td>null</td><td>null</td><td>&quot;Bob&#x27;s Red Mill…</td><td>&quot;bob-s-red-mill…</td><td>null</td><td>null</td><td>null</td><td>null</td><td>null</td><td>null</td><td>null</td><td>null</td><td>null</td><td>null</td><td>null</td><td>null</td><td>null</td><td>null</td><td>null</td><td>null</td><td>null</td><td>&quot;US&quot;</td><td>&quot;en:united-stat…</td><td>&quot;United States&quot;</td><td>&quot;Organic polent…</td><td>null</td><td>null</td><td>&hellip;</td><td>null</td><td>null</td><td>null</td><td>null</td><td>null</td><td>null</td><td>null</td><td>null</td><td>null</td><td>null</td><td>null</td><td>null</td><td>null</td><td>null</td><td>null</td><td>null</td><td>null</td><td>null</td><td>null</td><td>null</td><td>null</td><td>null</td><td>null</td><td>null</td><td>null</td><td>null</td><td>null</td><td>null</td><td>null</td><td>null</td><td>null</td><td>null</td><td>null</td><td>null</td><td>null</td><td>null</td><td>null</td></tr></tbody></table></div>"
      ],
      "text/plain": [
       "shape: (5, 163)\n",
       "┌───────┬───────────┬───────────┬──────────┬───┬────────────┬────────────┬────────────┬────────────┐\n",
       "│ code  ┆ url       ┆ creator   ┆ created_ ┆ … ┆ nutrition- ┆ nutrition- ┆ glycemic-i ┆ water-hard │\n",
       "│ ---   ┆ ---       ┆ ---       ┆ t        ┆   ┆ score-fr_1 ┆ score-uk_1 ┆ ndex_100g  ┆ ness_100g  │\n",
       "│ i64   ┆ str       ┆ str       ┆ ---      ┆   ┆ 00g        ┆ 00g        ┆ ---        ┆ ---        │\n",
       "│       ┆           ┆           ┆ i64      ┆   ┆ ---        ┆ ---        ┆ str        ┆ str        │\n",
       "│       ┆           ┆           ┆          ┆   ┆ i64        ┆ i64        ┆            ┆            │\n",
       "╞═══════╪═══════════╪═══════════╪══════════╪═══╪════════════╪════════════╪════════════╪════════════╡\n",
       "│ 3087  ┆ http://wo ┆ openfoodf ┆ 14741038 ┆ … ┆ null       ┆ null       ┆ null       ┆ null       │\n",
       "│       ┆ rld-en.op ┆ acts-cont ┆ 66       ┆   ┆            ┆            ┆            ┆            │\n",
       "│       ┆ enfoodfac ┆ ributors  ┆          ┆   ┆            ┆            ┆            ┆            │\n",
       "│       ┆ ts.or…    ┆           ┆          ┆   ┆            ┆            ┆            ┆            │\n",
       "│ 4530  ┆ http://wo ┆ usda-ndb- ┆ 14890699 ┆ … ┆ 14         ┆ 14         ┆ null       ┆ null       │\n",
       "│       ┆ rld-en.op ┆ import    ┆ 57       ┆   ┆            ┆            ┆            ┆            │\n",
       "│       ┆ enfoodfac ┆           ┆          ┆   ┆            ┆            ┆            ┆            │\n",
       "│       ┆ ts.or…    ┆           ┆          ┆   ┆            ┆            ┆            ┆            │\n",
       "│ 4559  ┆ http://wo ┆ usda-ndb- ┆ 14890699 ┆ … ┆ 0          ┆ 0          ┆ null       ┆ null       │\n",
       "│       ┆ rld-en.op ┆ import    ┆ 57       ┆   ┆            ┆            ┆            ┆            │\n",
       "│       ┆ enfoodfac ┆           ┆          ┆   ┆            ┆            ┆            ┆            │\n",
       "│       ┆ ts.or…    ┆           ┆          ┆   ┆            ┆            ┆            ┆            │\n",
       "│ 16087 ┆ http://wo ┆ usda-ndb- ┆ 14890557 ┆ … ┆ 12         ┆ 12         ┆ null       ┆ null       │\n",
       "│       ┆ rld-en.op ┆ import    ┆ 31       ┆   ┆            ┆            ┆            ┆            │\n",
       "│       ┆ enfoodfac ┆           ┆          ┆   ┆            ┆            ┆            ┆            │\n",
       "│       ┆ ts.or…    ┆           ┆          ┆   ┆            ┆            ┆            ┆            │\n",
       "│ 16094 ┆ http://wo ┆ usda-ndb- ┆ 14890556 ┆ … ┆ null       ┆ null       ┆ null       ┆ null       │\n",
       "│       ┆ rld-en.op ┆ import    ┆ 53       ┆   ┆            ┆            ┆            ┆            │\n",
       "│       ┆ enfoodfac ┆           ┆          ┆   ┆            ┆            ┆            ┆            │\n",
       "│       ┆ ts.or…    ┆           ┆          ┆   ┆            ┆            ┆            ┆            │\n",
       "└───────┴───────────┴───────────┴──────────┴───┴────────────┴────────────┴────────────┴────────────┘"
      ]
     },
     "execution_count": 3,
     "metadata": {},
     "output_type": "execute_result"
    }
   ],
   "source": [
    "food.head()"
   ]
  },
  {
   "attachments": {},
   "cell_type": "markdown",
   "metadata": {},
   "source": [
    "### Step 5. What is the number of observations in the dataset?"
   ]
  },
  {
   "cell_type": "code",
   "execution_count": 4,
   "metadata": {},
   "outputs": [
    {
     "data": {
      "text/plain": [
       "(356001, 163)"
      ]
     },
     "execution_count": 4,
     "metadata": {},
     "output_type": "execute_result"
    }
   ],
   "source": [
    "food.shape #will give you both (observations/rows, columns)"
   ]
  },
  {
   "cell_type": "code",
   "execution_count": 5,
   "metadata": {},
   "outputs": [
    {
     "data": {
      "text/plain": [
       "356001"
      ]
     },
     "execution_count": 5,
     "metadata": {},
     "output_type": "execute_result"
    }
   ],
   "source": [
    "food.height #will give you only the observations/rows number"
   ]
  },
  {
   "attachments": {},
   "cell_type": "markdown",
   "metadata": {},
   "source": [
    "### Step 6. What is the number of columns in the dataset?"
   ]
  },
  {
   "cell_type": "code",
   "execution_count": 6,
   "metadata": {},
   "outputs": [
    {
     "name": "stdout",
     "output_type": "stream",
     "text": [
      "(356001, 163)\n",
      "163\n"
     ]
    }
   ],
   "source": [
    "print(food.shape) #will give you both (observations/rows, columns)\n",
    "print(food.width) #will give you only the columns number"
   ]
  },
  {
   "attachments": {},
   "cell_type": "markdown",
   "metadata": {},
   "source": [
    "### Step 7. Print the name of all the columns."
   ]
  },
  {
   "cell_type": "code",
   "execution_count": 7,
   "metadata": {},
   "outputs": [
    {
     "data": {
      "text/plain": [
       "['code',\n",
       " 'url',\n",
       " 'creator',\n",
       " 'created_t',\n",
       " 'created_datetime',\n",
       " 'last_modified_t',\n",
       " 'last_modified_datetime',\n",
       " 'product_name',\n",
       " 'generic_name',\n",
       " 'quantity',\n",
       " 'packaging',\n",
       " 'packaging_tags',\n",
       " 'brands',\n",
       " 'brands_tags',\n",
       " 'categories',\n",
       " 'categories_tags',\n",
       " 'categories_en',\n",
       " 'origins',\n",
       " 'origins_tags',\n",
       " 'manufacturing_places',\n",
       " 'manufacturing_places_tags',\n",
       " 'labels',\n",
       " 'labels_tags',\n",
       " 'labels_en',\n",
       " 'emb_codes',\n",
       " 'emb_codes_tags',\n",
       " 'first_packaging_code_geo',\n",
       " 'cities',\n",
       " 'cities_tags',\n",
       " 'purchase_places',\n",
       " 'stores',\n",
       " 'countries',\n",
       " 'countries_tags',\n",
       " 'countries_en',\n",
       " 'ingredients_text',\n",
       " 'allergens',\n",
       " 'allergens_en',\n",
       " 'traces',\n",
       " 'traces_tags',\n",
       " 'traces_en',\n",
       " 'serving_size',\n",
       " 'no_nutriments',\n",
       " 'additives_n',\n",
       " 'additives',\n",
       " 'additives_tags',\n",
       " 'additives_en',\n",
       " 'ingredients_from_palm_oil_n',\n",
       " 'ingredients_from_palm_oil',\n",
       " 'ingredients_from_palm_oil_tags',\n",
       " 'ingredients_that_may_be_from_palm_oil_n',\n",
       " 'ingredients_that_may_be_from_palm_oil',\n",
       " 'ingredients_that_may_be_from_palm_oil_tags',\n",
       " 'nutrition_grade_uk',\n",
       " 'nutrition_grade_fr',\n",
       " 'pnns_groups_1',\n",
       " 'pnns_groups_2',\n",
       " 'states',\n",
       " 'states_tags',\n",
       " 'states_en',\n",
       " 'main_category',\n",
       " 'main_category_en',\n",
       " 'image_url',\n",
       " 'image_small_url',\n",
       " 'energy_100g',\n",
       " 'energy-from-fat_100g',\n",
       " 'fat_100g',\n",
       " 'saturated-fat_100g',\n",
       " '-butyric-acid_100g',\n",
       " '-caproic-acid_100g',\n",
       " '-caprylic-acid_100g',\n",
       " '-capric-acid_100g',\n",
       " '-lauric-acid_100g',\n",
       " '-myristic-acid_100g',\n",
       " '-palmitic-acid_100g',\n",
       " '-stearic-acid_100g',\n",
       " '-arachidic-acid_100g',\n",
       " '-behenic-acid_100g',\n",
       " '-lignoceric-acid_100g',\n",
       " '-cerotic-acid_100g',\n",
       " '-montanic-acid_100g',\n",
       " '-melissic-acid_100g',\n",
       " 'monounsaturated-fat_100g',\n",
       " 'polyunsaturated-fat_100g',\n",
       " 'omega-3-fat_100g',\n",
       " '-alpha-linolenic-acid_100g',\n",
       " '-eicosapentaenoic-acid_100g',\n",
       " '-docosahexaenoic-acid_100g',\n",
       " 'omega-6-fat_100g',\n",
       " '-linoleic-acid_100g',\n",
       " '-arachidonic-acid_100g',\n",
       " '-gamma-linolenic-acid_100g',\n",
       " '-dihomo-gamma-linolenic-acid_100g',\n",
       " 'omega-9-fat_100g',\n",
       " '-oleic-acid_100g',\n",
       " '-elaidic-acid_100g',\n",
       " '-gondoic-acid_100g',\n",
       " '-mead-acid_100g',\n",
       " '-erucic-acid_100g',\n",
       " '-nervonic-acid_100g',\n",
       " 'trans-fat_100g',\n",
       " 'cholesterol_100g',\n",
       " 'carbohydrates_100g',\n",
       " 'sugars_100g',\n",
       " '-sucrose_100g',\n",
       " '-glucose_100g',\n",
       " '-fructose_100g',\n",
       " '-lactose_100g',\n",
       " '-maltose_100g',\n",
       " '-maltodextrins_100g',\n",
       " 'starch_100g',\n",
       " 'polyols_100g',\n",
       " 'fiber_100g',\n",
       " 'proteins_100g',\n",
       " 'casein_100g',\n",
       " 'serum-proteins_100g',\n",
       " 'nucleotides_100g',\n",
       " 'salt_100g',\n",
       " 'sodium_100g',\n",
       " 'alcohol_100g',\n",
       " 'vitamin-a_100g',\n",
       " 'beta-carotene_100g',\n",
       " 'vitamin-d_100g',\n",
       " 'vitamin-e_100g',\n",
       " 'vitamin-k_100g',\n",
       " 'vitamin-c_100g',\n",
       " 'vitamin-b1_100g',\n",
       " 'vitamin-b2_100g',\n",
       " 'vitamin-pp_100g',\n",
       " 'vitamin-b6_100g',\n",
       " 'vitamin-b9_100g',\n",
       " 'folates_100g',\n",
       " 'vitamin-b12_100g',\n",
       " 'biotin_100g',\n",
       " 'pantothenic-acid_100g',\n",
       " 'silica_100g',\n",
       " 'bicarbonate_100g',\n",
       " 'potassium_100g',\n",
       " 'chloride_100g',\n",
       " 'calcium_100g',\n",
       " 'phosphorus_100g',\n",
       " 'iron_100g',\n",
       " 'magnesium_100g',\n",
       " 'zinc_100g',\n",
       " 'copper_100g',\n",
       " 'manganese_100g',\n",
       " 'fluoride_100g',\n",
       " 'selenium_100g',\n",
       " 'chromium_100g',\n",
       " 'molybdenum_100g',\n",
       " 'iodine_100g',\n",
       " 'caffeine_100g',\n",
       " 'taurine_100g',\n",
       " 'ph_100g',\n",
       " 'fruits-vegetables-nuts_100g',\n",
       " 'fruits-vegetables-nuts-estimate_100g',\n",
       " 'collagen-meat-protein-ratio_100g',\n",
       " 'cocoa_100g',\n",
       " 'chlorophyl_100g',\n",
       " 'carbon-footprint_100g',\n",
       " 'nutrition-score-fr_100g',\n",
       " 'nutrition-score-uk_100g',\n",
       " 'glycemic-index_100g',\n",
       " 'water-hardness_100g']"
      ]
     },
     "execution_count": 7,
     "metadata": {},
     "output_type": "execute_result"
    }
   ],
   "source": [
    "food.columns"
   ]
  },
  {
   "attachments": {},
   "cell_type": "markdown",
   "metadata": {},
   "source": [
    "### Step 8. What is the name of 105th column?"
   ]
  },
  {
   "cell_type": "code",
   "execution_count": 8,
   "metadata": {},
   "outputs": [
    {
     "data": {
      "text/plain": [
       "'-fructose_100g'"
      ]
     },
     "execution_count": 8,
     "metadata": {},
     "output_type": "execute_result"
    }
   ],
   "source": [
    "food.columns[105]"
   ]
  },
  {
   "attachments": {},
   "cell_type": "markdown",
   "metadata": {},
   "source": [
    "### Step 9. What is the type of the observations of the 105th column?"
   ]
  },
  {
   "cell_type": "code",
   "execution_count": 9,
   "metadata": {},
   "outputs": [
    {
     "data": {
      "text/plain": [
       "Utf8"
      ]
     },
     "execution_count": 9,
     "metadata": {},
     "output_type": "execute_result"
    }
   ],
   "source": [
    "food.schema['-glucose_100g']"
   ]
  },
  {
   "attachments": {},
   "cell_type": "markdown",
   "metadata": {},
   "source": [
    "### Step 11. What is the product name of the 19th observation?"
   ]
  },
  {
   "cell_type": "code",
   "execution_count": 10,
   "metadata": {},
   "outputs": [
    {
     "data": {
      "text/plain": [
       "'Lotus Organic Brown Jasmine Rice'"
      ]
     },
     "execution_count": 10,
     "metadata": {},
     "output_type": "execute_result"
    }
   ],
   "source": [
    "food.item(row=18, column=7)"
   ]
  },
  {
   "cell_type": "code",
   "execution_count": 11,
   "metadata": {},
   "outputs": [
    {
     "name": "stdout",
     "output_type": "stream",
     "text": [
      "Time elapsed: 1.397313117980957\n"
     ]
    }
   ],
   "source": [
    "print(f\"Time elapsed: {time.time() - start_time}\")"
   ]
  }
 ],
 "metadata": {
  "anaconda-cloud": {},
  "kernelspec": {
   "display_name": "Python 3",
   "language": "python",
   "name": "python3"
  },
  "language_info": {
   "codemirror_mode": {
    "name": "ipython",
    "version": 3
   },
   "file_extension": ".py",
   "mimetype": "text/x-python",
   "name": "python",
   "nbconvert_exporter": "python",
   "pygments_lexer": "ipython3",
   "version": "3.11.3"
  },
  "toc": {
   "base_numbering": 1,
   "nav_menu": {},
   "number_sections": true,
   "sideBar": true,
   "skip_h1_title": false,
   "title_cell": "Table of Contents",
   "title_sidebar": "Contents",
   "toc_cell": false,
   "toc_position": {},
   "toc_section_display": true,
   "toc_window_display": false
  }
 },
 "nbformat": 4,
 "nbformat_minor": 1
}
